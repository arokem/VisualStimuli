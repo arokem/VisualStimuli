{
 "cells": [
  {
   "cell_type": "code",
   "execution_count": 1,
   "metadata": {},
   "outputs": [],
   "source": [
    "import numpy as np\n",
    "from numpy import array\n",
    "%matplotlib inline\n",
    "import matplotlib.pyplot as plt\n",
    "import random\n",
    "import pickle\n",
    "\n",
    "import scipy\n",
    "\n",
    "import skimage.transform as sit\n",
    "from skimage import io\n",
    "from skimage.transform import resize\n",
    "from skimage.transform import rotate\n",
    "\n",
    "from sklearn.discriminant_analysis import LinearDiscriminantAnalysis\n",
    "from sklearn.model_selection import train_test_split\n",
    "from sklearn.model_selection import StratifiedKFold\n",
    "from sklearn.model_selection import permutation_test_score\n",
    "from sklearn.svm import SVC"
   ]
  },
  {
   "cell_type": "code",
   "execution_count": 2,
   "metadata": {},
   "outputs": [],
   "source": [
    "import pulse2percept as p2p\n",
    "import visual\n",
    "import importlib"
   ]
  },
  {
   "cell_type": "code",
   "execution_count": 3,
   "metadata": {},
   "outputs": [],
   "source": [
    "imgw = np.load(\"imgw.npy\") #800x800\n",
    "imgwlarge = np.load(\"imgwlarge.npy\") #1520x520\n",
    "img_original = io.imread(\"Landolt5.png\")\n",
    "img_og = io.imread(\"Landolt2.png\")"
   ]
  },
  {
   "cell_type": "code",
   "execution_count": 4,
   "metadata": {},
   "outputs": [
    {
     "name": "stdout",
     "output_type": "stream",
     "text": [
      "[100.27 102.93 ... 353.75 353.74] (600,)\n",
      "353.7379057794138 311.4119854519293\n"
     ]
    },
    {
     "data": {
      "text/plain": [
       "[<matplotlib.lines.Line2D at 0x7fbbeced4f98>]"
      ]
     },
     "execution_count": 4,
     "metadata": {},
     "output_type": "execute_result"
    },
    {
     "data": {
      "image/png": "[encoded data removed]",
      "text/plain": [
       "<Figure size 432x288 with 1 Axes>"
      ]
     },
     "metadata": {
      "needs_background": "light"
     },
     "output_type": "display_data"
    }
   ],
   "source": [
    "data = [[1,100],[1.5,200],[2,250],[2.5,279],[3,300],[3.5,312],[4,325],[4.5,330],[5,337],[5.5,342],[6,347],[6.5,350],[7,354]]\n",
    "x, y = zip(*data)\n",
    "plt.plot(x, y, 'kx')\n",
    "\n",
    "#stacked_x = np.array([x,x+1,x-1])\n",
    "#logistic function\n",
    "coeffs = np.polyfit(x,y,6)#mpf(stacked_x, y, deg) (for multivariate data)\n",
    "x2 = np.arange(min(x), max(x), .01) #use more points for a smoother plot\n",
    "y2 = np.polyval(coeffs, x2) #Evaluates the polynomial for each x2 value\n",
    "print(y2, y2.shape)\n",
    "print(y2[599], y2[245]) #last value in array = 7x compression\n",
    "plt.plot(x2, y2)"
   ]
  },
  {
   "cell_type": "code",
   "execution_count": 5,
   "metadata": {},
   "outputs": [
    {
     "name": "stdout",
     "output_type": "stream",
     "text": [
      "['000', '001', '002', '003', '004', '005', '006', '007', '008', '010', '011', '012', '013', '014', '015', '016', '017', '018', '020', '021', '022', '023', '024', '025', '026', '027', '028', '030', '031', '032', '033', '034', '035', '036', '037', '038', '040', '041', '042', '043', '044', '045', '046', '047', '048', '050', '051', '052', '053', '054', '055', '056', '057', '058', '060', '061', '062', '063', '064', '065', '066', '067', '068', '070', '071', '072', '073', '074', '075', '076', '077', '078', '080', '081', '082', '083', '084', '085', '086', '087', '088', '100', '101', '102', '103', '104', '105', '106', '107', '108', '110', '111', '112', '113', '114', '115', '116', '117', '118', '120', '121', '122', '123', '124', '125', '126', '127', '128', '130', '131', '132', '133', '134', '135', '136', '137', '138', '140', '141', '142', '143', '144', '145', '146', '147', '148', '150', '151', '152', '153', '154', '155', '156', '157', '158', '160', '161', '162', '163', '164', '165', '166', '167', '168', '170', '171', '172', '173', '174', '175', '176', '177', '178', '180', '181', '182', '183', '184', '185', '186', '187', '188', '200', '201', '202', '203', '204', '205', '206', '207', '208', '210', '211', '212', '213', '214', '215', '216', '217', '218', '220', '221', '222', '223', '224', '225', '226', '227', '228', '230', '231', '232', '233', '234', '235', '236', '237', '238', '240', '241', '242', '243', '244', '245', '246', '247', '248', '250', '251', '252', '253', '254', '255', '256', '257', '258', '260', '261', '262', '263', '264', '265', '266', '267', '268', '270', '271', '272', '273', '274', '275', '276', '277', '278', '280', '281', '282', '283', '284', '285', '286', '287', '288', '300', '301', '302', '303', '304', '305', '306', '307', '308', '310', '311', '312', '313', '314', '315', '316', '317', '318', '320', '321', '322', '323', '324', '325', '326', '327', '328', '330', '331', '332', '333', '334', '335', '336', '337', '338', '340', '341', '342', '343', '344', '345', '346', '347', '348', '350', '351', '352', '353', '354', '355', '356', '357', '358', '360', '361', '362', '363', '364', '365', '366', '367', '368', '370', '371', '372', '373', '374', '375', '376', '377', '378', '380', '381', '382', '383', '384', '385', '386', '387', '388', '400', '401', '402', '403', '404', '405', '406', '407', '408', '410', '411', '412', '413', '414', '415', '416', '417', '418', '420', '421', '422', '423', '424', '425', '426', '427', '428', '430', '431', '432', '433', '434', '435', '436', '437', '438', '440', '441', '442', '443', '444', '445', '446', '447', '448', '450', '451', '452', '453', '454', '455', '456', '457', '458', '460', '461', '462', '463', '464', '465', '466', '467', '468', '470', '471', '472', '473', '474', '475', '476', '477', '478', '480', '481', '482', '483', '484', '485', '486', '487', '488', '500', '501', '502', '503', '504', '505', '506', '507', '508', '510', '511', '512', '513', '514', '515', '516', '517', '518', '520', '521', '522', '523', '524', '525', '526', '527', '528', '530', '531', '532', '533', '534', '535', '536', '537', '538', '540', '541', '542', '543', '544', '545', '546', '547', '548', '550', '551', '552', '553', '554', '555', '556', '557', '558', '560', '561', '562', '563', '564', '565', '566', '567', '568', '570', '571', '572', '573', '574', '575', '576', '577', '578', '580', '581', '582', '583', '584', '585', '586', '587', '588', '600', '601', '602', '603', '604', '605', '606', '607', '608', '610', '611', '612', '613', '614', '615', '616', '617', '618', '620', '621', '622', '623', '624', '625', '626', '627', '628', '630', '631', '632', '633', '634', '635', '636', '637', '638', '640', '641', '642', '643', '644', '645', '646', '647', '648', '650', '651', '652', '653', '654', '655', '656', '657', '658', '660', '661', '662', '663', '664', '665', '666', '667', '668', '670', '671', '672', '673', '674', '675', '676', '677', '678', '680', '681', '682', '683', '684', '685', '686', '687', '688', '700', '701', '702', '703', '704', '705', '706', '707', '708', '710', '711', '712', '713', '714', '715', '716', '717', '718', '720', '721', '722', '723', '724', '725', '726', '727', '728', '730', '731', '732', '733', '734', '735', '736', '737', '738', '740', '741', '742', '743', '744', '745', '746', '747', '748', '750', '751', '752', '753', '754', '755', '756', '757', '758', '760', '761', '762', '763', '764', '765', '766', '767', '768', '770', '771', '772', '773', '774', '775', '776', '777', '778', '780', '781', '782', '783', '784', '785', '786', '787', '788', '800', '801', '802', '803', '804', '805', '806', '807', '808', '810', '811', '812', '813', '814', '815', '816', '817', '818', '820', '821', '822', '823', '824', '825', '826', '827', '828', '830', '831', '832', '833', '834', '835', '836', '837', '838', '840', '841', '842', '843', '844', '845', '846', '847', '848', '850', '851', '852', '853', '854', '855', '856', '857', '858', '860', '861', '862', '863', '864', '865', '866', '867', '868', '870', '871', '872', '873', '874', '875', '876', '877', '878', '880', '881', '882', '883', '884', '885', '886', '887', '888']\n"
     ]
    }
   ],
   "source": [
    "B = []\n",
    "for i in range(0,9):\n",
    "    for j in range(0,9):\n",
    "        for k in range(0,9):\n",
    "            B.append(str(i) + str(j) + str(k))\n",
    "print(B)"
   ]
  },
  {
   "cell_type": "code",
   "execution_count": 7,
   "metadata": {},
   "outputs": [
    {
     "name": "stdout",
     "output_type": "stream",
     "text": [
      "[0.0, 0.0625, 0.125, 0.1875, 0.25, 0.3125, 0.375, 0.4375, 0.5]\n",
      "[1.0, 1.5, 2.0, 2.5, 3.0, 3.5, 4.0, 4.5, 5.0]\n",
      "[0.0, 0.125, 0.25, 0.375, 0.5, 0.625, 0.75, 0.875, 1.0]\n",
      "[0, 0, 0, 0, 0, 0, 0, 0, 45, 45, 45, 45, 45, 45, 45, 45, 90, 90, 90, 90, 90, 90, 90, 90, 135, 135, 135, 135, 135, 135, 135, 135, 180, 180, 180, 180, 180, 180, 180, 180, 225, 225, 225, 225, 225, 225, 225, 225, 270, 270, 270, 270, 270, 270, 270, 270, 315, 315, 315, 315, 315, 315, 315, 315]\n"
     ]
    }
   ],
   "source": [
    "#amount of noise\n",
    "noises = [.0625*i for i in range(0, 9)]\n",
    "print(\"noises: \", noises)\n",
    "#size of stimulus (larger compression = smaller stimulus)\n",
    "compressions = [.5*i for i in range(2,11)]\n",
    "print(\"compressions: \", compressions)\n",
    "#% translations (1 allows C-ring to move to edge of image, .5 = halfway, etc.)\n",
    "scalings = [.125*i for i in range(0,9)] #[::-1] 0 is easier\n",
    "print(\"scalings: \", scalings)\n",
    "\n",
    "iterations = 1\n",
    "testsize = 0.25\n",
    "\n",
    "tempfeatures = []\n",
    "theta = 45\n",
    "for l in range(0, int(np.rint(360 / theta))):\n",
    "    for m in range(0, 8*iterations): \n",
    "        tempfeatures.append(l * theta)\n",
    "\n",
    "print(\"features: \", tempfeatures)"
   ]
  },
  {
   "cell_type": "code",
   "execution_count": 8,
   "metadata": {},
   "outputs": [],
   "source": [
    "def image_set(file, theta=45, noise=0, compress=1.0, scaling=1, dim=256, itr=1):\n",
    "    shift = int(np.rint((y2[int((compress - 1) * 100)]) * scaling)) #w/o 800/800\n",
    "    start = int((1520 - 800) / 2)  #1520 - 800 / 2\n",
    "    stop = int(start + 800) #start + 800\n",
    "\n",
    "    #initialize list\n",
    "    A = np.empty([8*int(np.rint(360/theta))*itr, dim*dim])\n",
    "    print(A.shape)\n",
    "    #unnecessary, could just index A\n",
    "    lst = [0]*8\n",
    "    \n",
    "    for i in range(0, int(np.rint(360 / theta))):\n",
    "        new_img2 = img_og.copy()[start:stop, start:stop]\n",
    "        if (compress != 1):\n",
    "            new_img2 = visual.compressx(new_img2, compress)[0:800, 0:800]\n",
    "\n",
    "        #deleted the old code and can't remember how to do it elegantly but this works\n",
    "        new_img2 = visual.rotateclean(new_img2, theta * i)\n",
    "        new_img = img_og.copy()\n",
    "        new_img[start:stop, start:stop] = new_img2\n",
    "        new_img = new_img[:,:,0]\n",
    "        \n",
    "        for j in range(0, itr):\n",
    "            a = start + random.randint(0, shift) \n",
    "            lst[0] = resize(new_img[a:a+800, start:stop], (dim, dim)).flatten()\n",
    "            \n",
    "            a = start - random.randint(0, shift) #start - \n",
    "            lst[1] = resize(new_img[a:a+800, start:stop], (dim, dim)).flatten()\n",
    "            \n",
    "            a = start + random.randint(0, shift) #start + \n",
    "            lst[2] = resize(new_img[start:stop, a:a+800], (dim, dim)).flatten()\n",
    "            \n",
    "            a = start - random.randint(0, shift)\n",
    "            lst[3] = resize(new_img[start:stop, a:a+800], (dim, dim)).flatten()\n",
    "            \n",
    "            a = start + random.randint(0, shift)\n",
    "            b = start + random.randint(0, shift)\n",
    "            lst[4] = resize(new_img[a:a+800, b:b+800], (dim, dim)).flatten()\n",
    "            \n",
    "            a = start - random.randint(0, shift)\n",
    "            b = start + random.randint(0, shift)\n",
    "            lst[5] = resize(new_img[a:a+800, b:b+800], (dim, dim)).flatten()\n",
    "            \n",
    "            a = start + random.randint(0, shift)\n",
    "            b = start - random.randint(0, shift)\n",
    "            lst[6] = resize(new_img[a:a+800, b:b+800], (dim, dim)).flatten()\n",
    "            \n",
    "            a = start - random.randint(0, shift)\n",
    "            b = start - random.randint(0, shift)\n",
    "            lst[7] = resize(new_img[a:a+800, b:b+800], (dim, dim)).flatten()\n",
    "            \n",
    "            print(i, j)\n",
    "            A[i*(8*itr) + j*8:i*(8*itr) + (j+1)*8] = lst\n",
    "    \n",
    "    A[A<0.5] = 0\n",
    "    A[A>=0.5] = 1\n",
    "\n",
    "    #double check noise later\n",
    "    if (noise != 0):\n",
    "        visual.groupswitch(A, noise, dim)\n",
    "        \n",
    "    return A"
   ]
  },
  {
   "cell_type": "code",
   "execution_count": 9,
   "metadata": {},
   "outputs": [],
   "source": [
    "def cross_validate(X):\n",
    "    skf = StratifiedKFold(5)\n",
    "    clf = LinearDiscriminantAnalysis()#solver='lsqr'\n",
    "\n",
    "    results = []\n",
    "    accuracy = 0\n",
    "    tempf = np.array(tempfeatures)\n",
    "    print(tempf)\n",
    "\n",
    "    for train, test in skf.split(X, tempf):\n",
    "        xt, xv, yt, yv = X[train], X[test], tempf[train], tempf[test]\n",
    "        print(X[train].shape, X[test].shape, tempf[train].shape, tempf[test].shape)\n",
    "        clf.fit(xt, yt)\n",
    "        yhat = clf.predict(xv)\n",
    "\n",
    "        if ((yhat == yv).all() == True):\n",
    "            results.append(1)\n",
    "        else:\n",
    "            results.append(0)\n",
    "\n",
    "    accuracy = sum(results) / np.shape(results)[0]\n",
    "    return accuracy"
   ]
  },
  {
   "cell_type": "code",
   "execution_count": null,
   "metadata": {},
   "outputs": [
    {
     "name": "stdout",
     "output_type": "stream",
     "text": [
      "(64, 65536)\n"
     ]
    }
   ],
   "source": [
    "subs = image_set(B[0], noise=noises[0], compress=compressions[0], scaling=scalings[0], dim=256, itr=iterations)"
   ]
  },
  {
   "cell_type": "code",
   "execution_count": null,
   "metadata": {},
   "outputs": [],
   "source": [
    "#just testing cross-validation on one dataset with all the supposedly easiest parameters - no noise, no compression, no scaling.\n",
    "#only one copy / image, iterations = 1 right now just so there's not a bunch of images. 256 images total with itr = 1\n",
    "print(cross_validate(subs))"
   ]
  }
 ],
 "metadata": {
  "kernelspec": {
   "display_name": "Python 3",
   "language": "python",
   "name": "python3"
  },
  "language_info": {
   "codemirror_mode": {
    "name": "ipython",
    "version": 3
   },
   "file_extension": ".py",
   "mimetype": "text/x-python",
   "name": "python",
   "nbconvert_exporter": "python",
   "pygments_lexer": "ipython3",
   "version": "3.7.3"
  }
 },
 "nbformat": 4,
 "nbformat_minor": 2
}
